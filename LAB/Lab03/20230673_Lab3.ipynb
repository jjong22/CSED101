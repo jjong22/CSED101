{
 "cells": [
  {
   "cell_type": "code",
   "execution_count": 11,
   "id": "606b20b8",
   "metadata": {},
   "outputs": [],
   "source": [
    "# 학번: 20230673\n",
    "# 이름: 전재영"
   ]
  },
  {
   "cell_type": "code",
   "execution_count": 12,
   "id": "39b726df",
   "metadata": {},
   "outputs": [],
   "source": [
    "def sec_to_hms(seconds):\n",
    "    hr = seconds // 3600\n",
    "    seconds %= 3600\n",
    "    min_ = seconds // 60\n",
    "    seconds %= 60\n",
    "    sec = seconds\n",
    "    return hr, min_, sec,\n",
    "\n"
   ]
  },
  {
   "cell_type": "code",
   "execution_count": 13,
   "id": "5e26dd83",
   "metadata": {},
   "outputs": [],
   "source": [
    "def problem1():\n",
    "    hr, min_, sec = sec_to_hms(57894)\n",
    "    print(\"%d시간 %d분 %d초\" % (hr, min_, sec))"
   ]
  },
  {
   "cell_type": "code",
   "execution_count": 14,
   "id": "438b3d13",
   "metadata": {
    "scrolled": false
   },
   "outputs": [
    {
     "name": "stdout",
     "output_type": "stream",
     "text": [
      "[1, 1, 2, 2, 3, 5, 9]\n",
      "[1, 2, 3, 4, 5, 6, 9, 9]\n"
     ]
    }
   ],
   "source": [
    "def merge_list(l1, l2):\n",
    "    new_list = l1 + l2\n",
    "    new_list.sort()\n",
    "    return new_list\n",
    "    \n",
    "l = [3,5,9,1,2]\n",
    "ml1 = merge_list(l, [2,1])\n",
    "ml2 = merge_list([6,9,4], l)\n",
    "\n",
    "print(ml1)\n",
    "print(ml2)"
   ]
  },
  {
   "cell_type": "code",
   "execution_count": 15,
   "id": "e2880eff",
   "metadata": {},
   "outputs": [],
   "source": [
    "def problem2():\n",
    "    l = [3,5,9,1,2]\n",
    "    ml1 = merge_list(l, [2,1])\n",
    "    ml2 = merge_list([6,9,4], l)\n",
    "\n",
    "    print(ml1)\n",
    "    print(ml2)"
   ]
  },
  {
   "cell_type": "code",
   "execution_count": 16,
   "id": "17e1c4af",
   "metadata": {},
   "outputs": [],
   "source": [
    "def get_min_max(l):\n",
    "    max_val = max(l)\n",
    "    min_val = min(l)\n",
    "    \n",
    "    l.remove(max_val)\n",
    "    l.remove(min_val)\n",
    "    \n",
    "    return max_val, min_val"
   ]
  },
  {
   "cell_type": "code",
   "execution_count": 17,
   "id": "afc5a89f",
   "metadata": {},
   "outputs": [],
   "source": [
    "def problem3():\n",
    "    nlist = [3,5,9,1,2]\n",
    "    max_val ,min_val = get_min_max(nlist)\n",
    "    print(min_val)\n",
    "    print(max_val)\n",
    "    print(nlist)"
   ]
  },
  {
   "cell_type": "code",
   "execution_count": 18,
   "id": "48807cee",
   "metadata": {},
   "outputs": [],
   "source": [
    "import random\n",
    "\n",
    "def problem4():\n",
    "    menu =  [\"된장찌개\", \"부대찌개\", \"김치찌개\", \"삼계탕\", \"파스타\", \"돈까스\", \"쌀국수\"]\n",
    "\n",
    "    print(\"오늘 점심은 %s입니다.\" % (random.choice(menu)))"
   ]
  },
  {
   "cell_type": "code",
   "execution_count": 19,
   "id": "c92ab4e7",
   "metadata": {},
   "outputs": [
    {
     "name": "stdout",
     "output_type": "stream",
     "text": [
      "16시간 4분 54초\n",
      "[1, 1, 2, 2, 3, 5, 9]\n",
      "[1, 2, 3, 4, 5, 6, 9, 9]\n",
      "1\n",
      "9\n",
      "[3, 5, 2]\n",
      "오늘 점심은 돈까스입니다.\n"
     ]
    }
   ],
   "source": [
    "if __name__ == \"__main__\":\n",
    "    problem1() # 실습1\n",
    "    problem2() # 실습2\n",
    "    problem3() # 실습3\n",
    "    problem4() # 실습4"
   ]
  }
 ],
 "metadata": {
  "kernelspec": {
   "display_name": "Python 3 (ipykernel)",
   "language": "python",
   "name": "python3"
  },
  "language_info": {
   "codemirror_mode": {
    "name": "ipython",
    "version": 3
   },
   "file_extension": ".py",
   "mimetype": "text/x-python",
   "name": "python",
   "nbconvert_exporter": "python",
   "pygments_lexer": "ipython3",
   "version": "3.9.13"
  }
 },
 "nbformat": 4,
 "nbformat_minor": 5
}
